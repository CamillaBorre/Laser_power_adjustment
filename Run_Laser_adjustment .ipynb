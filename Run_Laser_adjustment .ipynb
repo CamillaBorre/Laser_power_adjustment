{
 "cells": [
  {
   "cell_type": "code",
   "execution_count": 1,
   "id": "e9c35d71",
   "metadata": {
    "scrolled": false
   },
   "outputs": [
    {
     "name": "stdout",
     "output_type": "stream",
     "text": [
      "Defaulting to user installation because normal site-packages is not writeable\n",
      "Requirement already satisfied: pandas in c:\\program files\\anaconda3\\lib\\site-packages (1.4.2)\n",
      "Requirement already satisfied: pytz>=2020.1 in c:\\program files\\anaconda3\\lib\\site-packages (from pandas) (2021.3)\n",
      "Requirement already satisfied: python-dateutil>=2.8.1 in c:\\program files\\anaconda3\\lib\\site-packages (from pandas) (2.8.2)\n",
      "Requirement already satisfied: numpy>=1.18.5 in c:\\program files\\anaconda3\\lib\\site-packages (from pandas) (1.21.5)\n",
      "Requirement already satisfied: six>=1.5 in c:\\program files\\anaconda3\\lib\\site-packages (from python-dateutil>=2.8.1->pandas) (1.16.0)\n",
      "Defaulting to user installation because normal site-packages is not writeable\n",
      "Requirement already satisfied: beautifulsoup4 in c:\\program files\\anaconda3\\lib\\site-packages (4.11.1)\n",
      "Requirement already satisfied: soupsieve>1.2 in c:\\program files\\anaconda3\\lib\\site-packages (from beautifulsoup4) (2.3.1)\n",
      "Defaulting to user installation because normal site-packages is not writeable\n",
      "Requirement already satisfied: lxml in c:\\program files\\anaconda3\\lib\\site-packages (4.8.0)\n"
     ]
    }
   ],
   "source": [
    "# If this is the first time you run this change First_time = True, else First_time = False\n",
    "\n",
    "First_time = True\n",
    "\n",
    "if First_time:\n",
    "    !pip install pandas\n",
    "    !pip install beautifulsoup4\n",
    "    !pip install lxml\n"
   ]
  },
  {
   "cell_type": "code",
   "execution_count": 6,
   "id": "e566990e",
   "metadata": {},
   "outputs": [],
   "source": [
    "#!!!HERE YOU CAN EDIT IF NEEDED!!!\n",
    "\n",
    "#To what file should the laser scaling be applied \n",
    "Original_EOS_file =  'EOS_files/Original_file'\n",
    "#Where should the new file be saved\n",
    "New_EOS_file = 'EOS_files/Laseradjusted_file'\n",
    "\n",
    "#Where is the laser model saved\n",
    "Model_location = 'Laser_model/Laser_model_256317.csv'\n",
    "#Where are the laser measurements of the machine saved\n",
    "#Note: these should be individual .txt files\n",
    "Laser_measurement_location = 'Laser_measurements/'\n",
    "\n",
    "#Should the model remove outlier laser measurements for the adjustment?\n",
    "#If \"Yes\", Adjust_laser_measurements = True (Recommended)\n",
    "#If \"No\", Adjust_laser_measurements = False\n",
    "Adjust_laser_measurements = True\n",
    "\n",
    "#What is the max and min of the laser power\n",
    "#laser_min_boundry = 9, laser_max_boundry = 18 (Recommended)\n",
    "laser_max_boundry = 13\n",
    "laser_min_boundry = 9\n"
   ]
  },
  {
   "cell_type": "code",
   "execution_count": 7,
   "id": "4eddab9d",
   "metadata": {},
   "outputs": [
    {
     "name": "stdout",
     "output_type": "stream",
     "text": [
      "\u001b[1mSummary:\u001b[0;0m\r\n",
      "\n",
      "The model power is between 9.92 to 16.58 W.\r\n",
      "The actual power will be between 9.0 to 13.0 W.\r\n",
      "\n",
      "\u001b[1mThe laser was adjusted with\u001b[0;0m \r\n",
      "-0.368 W for Galvo 1 and 0.014 W for Galvo 2\r\n",
      "\n",
      "\u001b[1mThe measured laser powers were\u001b[0;0m\r\n",
      "   Power  Galvo       Date  Power_mean  Power_std  Power_diff\n",
      "0   10.0      1 2023-06-12    9.932833   0.030805    0.067167\n",
      "1   12.0      1 2023-06-12   11.648033   0.034274    0.351967\n",
      "2   14.0      1 2023-06-12   13.756156   0.040391    0.243844\n",
      "3   16.0      1 2023-06-12   15.491511   0.040138    0.508489\n",
      "4   18.0      1 2023-06-12   17.228901   0.045584    0.771099\n",
      "5   10.0      2 2023-06-12   10.027089   0.038921   -0.027089\n",
      "6   12.0      2 2023-06-12   12.049000   0.061423   -0.049000\n",
      "7   14.0      2 2023-06-12   14.022808   0.051755   -0.022808\n",
      "8   16.0      2 2023-06-12   15.956618   0.069741    0.043382\n",
      "9   18.0      2 2023-06-12   17.206478   0.082140    0.793522\r\n",
      "\n",
      "\u001b[1mThe laser powers used for adjustments are\u001b[0;0m\r\n",
      "   Power  Galvo       Date  Power_mean  Power_std  Power_diff\n",
      "1   12.0      1 2023-06-12   11.648033   0.034274    0.351967\n",
      "2   14.0      1 2023-06-12   13.756156   0.040391    0.243844\n",
      "3   16.0      1 2023-06-12   15.491511   0.040138    0.508489\n",
      "5   10.0      2 2023-06-12   10.027089   0.038921   -0.027089\n",
      "6   12.0      2 2023-06-12   12.049000   0.061423   -0.049000\n",
      "7   14.0      2 2023-06-12   14.022808   0.051755   -0.022808\n",
      "8   16.0      2 2023-06-12   15.956618   0.069741    0.043382\r\n",
      "\n",
      "\u001b[1mEOS file is saved as\u001b[0;0m\r\n",
      "EOS_files/Laseradjusted_file\n"
     ]
    }
   ],
   "source": [
    "# !!!DO NOT EDIT!!!\n",
    "#Collect input parameters\n",
    "input_parameters = [Original_EOS_file, New_EOS_file, Model_location, Laser_measurement_location, Adjust_laser_measurements, laser_max_boundry, laser_min_boundry]\n",
    "\n",
    "Script_folder = 'Laser_adjustment.ipynb' \n",
    "\n",
    "#Find and run script \n",
    "%run $Script_folder\n",
    "Summery = Run(input_parameters)\n",
    "\n",
    "print(Summery)"
   ]
  },
  {
   "cell_type": "code",
   "execution_count": null,
   "id": "7e13d3e2",
   "metadata": {},
   "outputs": [],
   "source": []
  },
  {
   "cell_type": "code",
   "execution_count": null,
   "id": "9a9f5472",
   "metadata": {},
   "outputs": [],
   "source": []
  }
 ],
 "metadata": {
  "kernelspec": {
   "display_name": "Python 3 (ipykernel)",
   "language": "python",
   "name": "python3"
  },
  "language_info": {
   "codemirror_mode": {
    "name": "ipython",
    "version": 3
   },
   "file_extension": ".py",
   "mimetype": "text/x-python",
   "name": "python",
   "nbconvert_exporter": "python",
   "pygments_lexer": "ipython3",
   "version": "3.9.12"
  }
 },
 "nbformat": 4,
 "nbformat_minor": 5
}
