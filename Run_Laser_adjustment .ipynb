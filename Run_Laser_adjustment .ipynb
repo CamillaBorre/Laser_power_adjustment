{
 "cells": [
  {
   "cell_type": "code",
   "execution_count": 10,
   "id": "e9c35d71",
   "metadata": {
    "scrolled": false
   },
   "outputs": [],
   "source": [
    "# If this is the first time you run this change First_time = True, else First_time = False\n",
    "\n",
    "First_time = False\n",
    "\n",
    "if First_time:\n",
    "    !pip install pandas\n",
    "    !pip install beautifulsoup4\n",
    "    !pip install lxml\n"
   ]
  },
  {
   "cell_type": "code",
   "execution_count": 14,
   "id": "e566990e",
   "metadata": {},
   "outputs": [],
   "source": [
    "#!!!HERE YOU CAN EDIT IF NEEDED!!!\n",
    "\n",
    "#Machine\n",
    "Machine = 270379\n",
    "\n",
    "#To what file should the laser scaling be applied \n",
    "Original_EOS_file =  'EOS_files/Original_file'\n",
    "#Where should the new file be saved\n",
    "New_EOS_file = 'EOS_files/Laseradjusted_file_'+str(Machine)\n",
    "\n",
    "#Where is the laser model saved\n",
    "Model_location = 'Laser_model/Laser_model_'+str(Machine)+'.csv'\n",
    "#Where are the laser measurements of the machine saved\n",
    "#Note: these should be individual .txt files\n",
    "Laser_measurement_location = 'Laser_measurements/'+ str(Machine) + '/'\n",
    "\n",
    "#Should the model remove outlier laser measurements for the adjustment?\n",
    "#If \"Yes\", Adjust_laser_measurements = True (Recommended)\n",
    "#If \"No\", Adjust_laser_measurements = False\n",
    "Adjust_laser_measurements = True\n",
    "\n",
    "#What is the max and min of the laser power\n",
    "#laser_min_boundry = 9, laser_max_boundry = 18 (Recommended)\n",
    "laser_max_boundry = 13\n",
    "laser_min_boundry = 9\n"
   ]
  },
  {
   "cell_type": "code",
   "execution_count": 15,
   "id": "4eddab9d",
   "metadata": {
    "scrolled": false
   },
   "outputs": [
    {
     "name": "stdout",
     "output_type": "stream",
     "text": [
      "\u001b[1mSummary:\u001b[0;0m\r\n",
      "\n",
      "The model power is between 11.7 to 15.66 W.\r\n",
      "The actual power will be between 9.05 to 13.0 W.\r\n",
      "\n",
      "\u001b[1mThe laser was adjusted with\u001b[0;0m \r\n",
      "0.11 W for Galvo 1 and -0.085 W for Galvo 2\r\n",
      "\n",
      "\u001b[1mThe measured laser powers were\u001b[0;0m\r\n",
      "   Power  Galvo       Date  Power_mean  Power_std  Power_diff\n",
      "0   12.8      1 2024-01-16   12.955500   0.034226   -0.155500\n",
      "1   12.0      1 2024-01-16   12.338500   0.034245   -0.338500\n",
      "2   13.5      1 2024-01-16   13.641333   0.041169   -0.141333\n",
      "3   14.2      1 2024-01-16   14.214000   0.042237   -0.014000\n",
      "4   15.0      1 2024-01-16   15.034500   0.034853   -0.034500\n",
      "5   12.8      2 2024-01-16   12.686833   0.038837    0.113167\n",
      "6   12.0      2 2024-01-16   11.927333   0.066027    0.072667\n",
      "7   13.5      2 2024-01-16   13.459333   0.061125    0.040667\n",
      "8   14.2      2 2024-01-16   14.317833   0.039920   -0.117833\n",
      "9   15.0      2 2024-01-16   14.885167   0.071798    0.114833\r\n",
      "\n",
      "\u001b[1mThe laser powers used for adjustments are\u001b[0;0m\r\n",
      "   Power  Galvo       Date  Power_mean  Power_std  Power_diff\n",
      "0   12.8      1 2024-01-16   12.955500   0.034226   -0.155500\n",
      "2   13.5      1 2024-01-16   13.641333   0.041169   -0.141333\n",
      "4   15.0      1 2024-01-16   15.034500   0.034853   -0.034500\n",
      "5   12.8      2 2024-01-16   12.686833   0.038837    0.113167\n",
      "6   12.0      2 2024-01-16   11.927333   0.066027    0.072667\n",
      "7   13.5      2 2024-01-16   13.459333   0.061125    0.040667\n",
      "9   15.0      2 2024-01-16   14.885167   0.071798    0.114833\r\n",
      "\n",
      "\u001b[1mEOS file is saved as\u001b[0;0m\r\n",
      "EOS_files/Laseradjusted_file_270379\n"
     ]
    }
   ],
   "source": [
    "# !!!DO NOT EDIT!!!\n",
    "#Collect input parameters\n",
    "input_parameters = [Original_EOS_file, New_EOS_file, Model_location, Laser_measurement_location, Adjust_laser_measurements, laser_max_boundry, laser_min_boundry]\n",
    "\n",
    "Script_folder = 'Laser_adjustment.ipynb' \n",
    "\n",
    "#Find and run script \n",
    "%run $Script_folder\n",
    "Summery = Run(input_parameters)\n",
    "\n",
    "print(Summery)"
   ]
  },
  {
   "cell_type": "code",
   "execution_count": null,
   "id": "7e13d3e2",
   "metadata": {},
   "outputs": [],
   "source": []
  },
  {
   "cell_type": "code",
   "execution_count": null,
   "id": "9a9f5472",
   "metadata": {},
   "outputs": [],
   "source": []
  }
 ],
 "metadata": {
  "kernelspec": {
   "display_name": "Python 3 (ipykernel)",
   "language": "python",
   "name": "python3"
  },
  "language_info": {
   "codemirror_mode": {
    "name": "ipython",
    "version": 3
   },
   "file_extension": ".py",
   "mimetype": "text/x-python",
   "name": "python",
   "nbconvert_exporter": "python",
   "pygments_lexer": "ipython3",
   "version": "3.9.12"
  }
 },
 "nbformat": 4,
 "nbformat_minor": 5
}
